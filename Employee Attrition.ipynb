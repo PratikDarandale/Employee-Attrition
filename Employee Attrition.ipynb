{
 "cells": [
  {
   "cell_type": "code",
   "execution_count": 5,
   "id": "e6824a3b",
   "metadata": {},
   "outputs": [],
   "source": [
    "import pandas as pd\n",
    "import numpy as np\n",
    "import matplotlib.pyplot as plt\n",
    "import seaborn as sns"
   ]
  },
  {
   "cell_type": "code",
   "execution_count": 6,
   "id": "de0ccace",
   "metadata": {},
   "outputs": [],
   "source": [
    "! pip install patchworklib -q"
   ]
  },
  {
   "cell_type": "code",
   "execution_count": 7,
   "id": "4443cc84",
   "metadata": {},
   "outputs": [
    {
     "data": {
      "text/plain": [
       "<Figure size 72x72 with 0 Axes>"
      ]
     },
     "metadata": {},
     "output_type": "display_data"
    }
   ],
   "source": [
    "import patchworklib as pw"
   ]
  },
  {
   "cell_type": "code",
   "execution_count": 8,
   "id": "3fd4d992",
   "metadata": {},
   "outputs": [],
   "source": [
    "df=pd.read_csv(\"C:/Users/pratik/Downloads/employee_attrition.csv\")"
   ]
  },
  {
   "cell_type": "code",
   "execution_count": 9,
   "id": "e4bc24a8",
   "metadata": {},
   "outputs": [
    {
     "data": {
      "text/html": [
       "<div>\n",
       "<style scoped>\n",
       "    .dataframe tbody tr th:only-of-type {\n",
       "        vertical-align: middle;\n",
       "    }\n",
       "\n",
       "    .dataframe tbody tr th {\n",
       "        vertical-align: top;\n",
       "    }\n",
       "\n",
       "    .dataframe thead th {\n",
       "        text-align: right;\n",
       "    }\n",
       "</style>\n",
       "<table border=\"1\" class=\"dataframe\">\n",
       "  <thead>\n",
       "    <tr style=\"text-align: right;\">\n",
       "      <th></th>\n",
       "      <th>Age</th>\n",
       "      <th>Attrition</th>\n",
       "      <th>BusinessTravel</th>\n",
       "      <th>DailyRate</th>\n",
       "      <th>Department</th>\n",
       "      <th>DistanceFromHome</th>\n",
       "      <th>Education</th>\n",
       "      <th>EducationField</th>\n",
       "      <th>EmployeeCount</th>\n",
       "      <th>EmployeeNumber</th>\n",
       "      <th>...</th>\n",
       "      <th>RelationshipSatisfaction</th>\n",
       "      <th>StandardHours</th>\n",
       "      <th>StockOptionLevel</th>\n",
       "      <th>TotalWorkingYears</th>\n",
       "      <th>TrainingTimesLastYear</th>\n",
       "      <th>WorkLifeBalance</th>\n",
       "      <th>YearsAtCompany</th>\n",
       "      <th>YearsInCurrentRole</th>\n",
       "      <th>YearsSinceLastPromotion</th>\n",
       "      <th>YearsWithCurrManager</th>\n",
       "    </tr>\n",
       "  </thead>\n",
       "  <tbody>\n",
       "    <tr>\n",
       "      <th>0</th>\n",
       "      <td>50.0</td>\n",
       "      <td>No</td>\n",
       "      <td>Travel_Rarely</td>\n",
       "      <td>1126.0</td>\n",
       "      <td>Research &amp; Development</td>\n",
       "      <td>1.0</td>\n",
       "      <td>2</td>\n",
       "      <td>Medical</td>\n",
       "      <td>1</td>\n",
       "      <td>997</td>\n",
       "      <td>...</td>\n",
       "      <td>3</td>\n",
       "      <td>80</td>\n",
       "      <td>1</td>\n",
       "      <td>32</td>\n",
       "      <td>1</td>\n",
       "      <td>2</td>\n",
       "      <td>5</td>\n",
       "      <td>4</td>\n",
       "      <td>1</td>\n",
       "      <td>3</td>\n",
       "    </tr>\n",
       "    <tr>\n",
       "      <th>1</th>\n",
       "      <td>36.0</td>\n",
       "      <td>No</td>\n",
       "      <td>Travel_Rarely</td>\n",
       "      <td>216.0</td>\n",
       "      <td>Research &amp; Development</td>\n",
       "      <td>6.0</td>\n",
       "      <td>2</td>\n",
       "      <td>Medical</td>\n",
       "      <td>1</td>\n",
       "      <td>178</td>\n",
       "      <td>...</td>\n",
       "      <td>4</td>\n",
       "      <td>80</td>\n",
       "      <td>2</td>\n",
       "      <td>7</td>\n",
       "      <td>0</td>\n",
       "      <td>3</td>\n",
       "      <td>3</td>\n",
       "      <td>2</td>\n",
       "      <td>0</td>\n",
       "      <td>1</td>\n",
       "    </tr>\n",
       "    <tr>\n",
       "      <th>2</th>\n",
       "      <td>21.0</td>\n",
       "      <td>Yes</td>\n",
       "      <td>Travel_Rarely</td>\n",
       "      <td>337.0</td>\n",
       "      <td>Sales</td>\n",
       "      <td>7.0</td>\n",
       "      <td>1</td>\n",
       "      <td>Marketing</td>\n",
       "      <td>1</td>\n",
       "      <td>1780</td>\n",
       "      <td>...</td>\n",
       "      <td>2</td>\n",
       "      <td>80</td>\n",
       "      <td>0</td>\n",
       "      <td>1</td>\n",
       "      <td>3</td>\n",
       "      <td>3</td>\n",
       "      <td>1</td>\n",
       "      <td>0</td>\n",
       "      <td>1</td>\n",
       "      <td>0</td>\n",
       "    </tr>\n",
       "    <tr>\n",
       "      <th>3</th>\n",
       "      <td>50.0</td>\n",
       "      <td>No</td>\n",
       "      <td>Travel_Frequently</td>\n",
       "      <td>1246.0</td>\n",
       "      <td>Human Resources</td>\n",
       "      <td>NaN</td>\n",
       "      <td>3</td>\n",
       "      <td>Medical</td>\n",
       "      <td>1</td>\n",
       "      <td>644</td>\n",
       "      <td>...</td>\n",
       "      <td>3</td>\n",
       "      <td>80</td>\n",
       "      <td>1</td>\n",
       "      <td>32</td>\n",
       "      <td>2</td>\n",
       "      <td>3</td>\n",
       "      <td>32</td>\n",
       "      <td>5</td>\n",
       "      <td>10</td>\n",
       "      <td>7</td>\n",
       "    </tr>\n",
       "    <tr>\n",
       "      <th>4</th>\n",
       "      <td>52.0</td>\n",
       "      <td>No</td>\n",
       "      <td>Travel_Rarely</td>\n",
       "      <td>994.0</td>\n",
       "      <td>Research &amp; Development</td>\n",
       "      <td>7.0</td>\n",
       "      <td>4</td>\n",
       "      <td>Life Sciences</td>\n",
       "      <td>1</td>\n",
       "      <td>1118</td>\n",
       "      <td>...</td>\n",
       "      <td>4</td>\n",
       "      <td>80</td>\n",
       "      <td>0</td>\n",
       "      <td>18</td>\n",
       "      <td>4</td>\n",
       "      <td>3</td>\n",
       "      <td>8</td>\n",
       "      <td>6</td>\n",
       "      <td>4</td>\n",
       "      <td>0</td>\n",
       "    </tr>\n",
       "  </tbody>\n",
       "</table>\n",
       "<p>5 rows × 35 columns</p>\n",
       "</div>"
      ],
      "text/plain": [
       "    Age Attrition     BusinessTravel  DailyRate              Department  \\\n",
       "0  50.0        No      Travel_Rarely     1126.0  Research & Development   \n",
       "1  36.0        No      Travel_Rarely      216.0  Research & Development   \n",
       "2  21.0       Yes      Travel_Rarely      337.0                   Sales   \n",
       "3  50.0        No  Travel_Frequently     1246.0         Human Resources   \n",
       "4  52.0        No      Travel_Rarely      994.0  Research & Development   \n",
       "\n",
       "   DistanceFromHome  Education EducationField  EmployeeCount  EmployeeNumber  \\\n",
       "0               1.0          2        Medical              1             997   \n",
       "1               6.0          2        Medical              1             178   \n",
       "2               7.0          1      Marketing              1            1780   \n",
       "3               NaN          3        Medical              1             644   \n",
       "4               7.0          4  Life Sciences              1            1118   \n",
       "\n",
       "   ...  RelationshipSatisfaction StandardHours  StockOptionLevel  \\\n",
       "0  ...                         3            80                 1   \n",
       "1  ...                         4            80                 2   \n",
       "2  ...                         2            80                 0   \n",
       "3  ...                         3            80                 1   \n",
       "4  ...                         4            80                 0   \n",
       "\n",
       "   TotalWorkingYears  TrainingTimesLastYear WorkLifeBalance  YearsAtCompany  \\\n",
       "0                 32                      1               2               5   \n",
       "1                  7                      0               3               3   \n",
       "2                  1                      3               3               1   \n",
       "3                 32                      2               3              32   \n",
       "4                 18                      4               3               8   \n",
       "\n",
       "  YearsInCurrentRole  YearsSinceLastPromotion  YearsWithCurrManager  \n",
       "0                  4                        1                     3  \n",
       "1                  2                        0                     1  \n",
       "2                  0                        1                     0  \n",
       "3                  5                       10                     7  \n",
       "4                  6                        4                     0  \n",
       "\n",
       "[5 rows x 35 columns]"
      ]
     },
     "execution_count": 9,
     "metadata": {},
     "output_type": "execute_result"
    }
   ],
   "source": [
    "df.head()"
   ]
  },
  {
   "cell_type": "code",
   "execution_count": 10,
   "id": "b383d43f",
   "metadata": {},
   "outputs": [
    {
     "name": "stdout",
     "output_type": "stream",
     "text": [
      "<class 'pandas.core.frame.DataFrame'>\n",
      "RangeIndex: 1029 entries, 0 to 1028\n",
      "Data columns (total 35 columns):\n",
      " #   Column                    Non-Null Count  Dtype  \n",
      "---  ------                    --------------  -----  \n",
      " 0   Age                       893 non-null    float64\n",
      " 1   Attrition                 1029 non-null   object \n",
      " 2   BusinessTravel            1024 non-null   object \n",
      " 3   DailyRate                 1002 non-null   float64\n",
      " 4   Department                1029 non-null   object \n",
      " 5   DistanceFromHome          934 non-null    float64\n",
      " 6   Education                 1029 non-null   int64  \n",
      " 7   EducationField            1029 non-null   object \n",
      " 8   EmployeeCount             1029 non-null   int64  \n",
      " 9   EmployeeNumber            1029 non-null   int64  \n",
      " 10  EnvironmentSatisfaction   1029 non-null   int64  \n",
      " 11  Gender                    1029 non-null   object \n",
      " 12  HourlyRate                1029 non-null   int64  \n",
      " 13  JobInvolvement            1029 non-null   int64  \n",
      " 14  JobLevel                  1029 non-null   int64  \n",
      " 15  JobRole                   1029 non-null   object \n",
      " 16  JobSatisfaction           1029 non-null   int64  \n",
      " 17  MaritalStatus             1024 non-null   object \n",
      " 18  MonthlyIncome             1029 non-null   int64  \n",
      " 19  MonthlyRate               1029 non-null   int64  \n",
      " 20  NumCompaniesWorked        1029 non-null   int64  \n",
      " 21  Over18                    1029 non-null   object \n",
      " 22  OverTime                  1029 non-null   object \n",
      " 23  PercentSalaryHike         1029 non-null   int64  \n",
      " 24  PerformanceRating         1029 non-null   int64  \n",
      " 25  RelationshipSatisfaction  1029 non-null   int64  \n",
      " 26  StandardHours             1029 non-null   int64  \n",
      " 27  StockOptionLevel          1029 non-null   int64  \n",
      " 28  TotalWorkingYears         1029 non-null   int64  \n",
      " 29  TrainingTimesLastYear     1029 non-null   int64  \n",
      " 30  WorkLifeBalance           1029 non-null   int64  \n",
      " 31  YearsAtCompany            1029 non-null   int64  \n",
      " 32  YearsInCurrentRole        1029 non-null   int64  \n",
      " 33  YearsSinceLastPromotion   1029 non-null   int64  \n",
      " 34  YearsWithCurrManager      1029 non-null   int64  \n",
      "dtypes: float64(3), int64(23), object(9)\n",
      "memory usage: 281.5+ KB\n"
     ]
    }
   ],
   "source": [
    "df.info()"
   ]
  },
  {
   "cell_type": "code",
   "execution_count": 11,
   "id": "583f6506",
   "metadata": {},
   "outputs": [
    {
     "data": {
      "text/html": [
       "<div>\n",
       "<style scoped>\n",
       "    .dataframe tbody tr th:only-of-type {\n",
       "        vertical-align: middle;\n",
       "    }\n",
       "\n",
       "    .dataframe tbody tr th {\n",
       "        vertical-align: top;\n",
       "    }\n",
       "\n",
       "    .dataframe thead th {\n",
       "        text-align: right;\n",
       "    }\n",
       "</style>\n",
       "<table border=\"1\" class=\"dataframe\">\n",
       "  <thead>\n",
       "    <tr style=\"text-align: right;\">\n",
       "      <th></th>\n",
       "      <th>count</th>\n",
       "      <th>mean</th>\n",
       "      <th>std</th>\n",
       "      <th>min</th>\n",
       "      <th>25%</th>\n",
       "      <th>50%</th>\n",
       "      <th>75%</th>\n",
       "      <th>max</th>\n",
       "    </tr>\n",
       "  </thead>\n",
       "  <tbody>\n",
       "    <tr>\n",
       "      <th>Age</th>\n",
       "      <td>893.0</td>\n",
       "      <td>37.930571</td>\n",
       "      <td>9.395978</td>\n",
       "      <td>18.0</td>\n",
       "      <td>31.00</td>\n",
       "      <td>37.0</td>\n",
       "      <td>44.0</td>\n",
       "      <td>60.0</td>\n",
       "    </tr>\n",
       "    <tr>\n",
       "      <th>DailyRate</th>\n",
       "      <td>1002.0</td>\n",
       "      <td>800.528942</td>\n",
       "      <td>408.109828</td>\n",
       "      <td>102.0</td>\n",
       "      <td>458.25</td>\n",
       "      <td>801.5</td>\n",
       "      <td>1162.0</td>\n",
       "      <td>1496.0</td>\n",
       "    </tr>\n",
       "    <tr>\n",
       "      <th>DistanceFromHome</th>\n",
       "      <td>934.0</td>\n",
       "      <td>9.930407</td>\n",
       "      <td>8.421791</td>\n",
       "      <td>1.0</td>\n",
       "      <td>2.00</td>\n",
       "      <td>8.0</td>\n",
       "      <td>16.0</td>\n",
       "      <td>29.0</td>\n",
       "    </tr>\n",
       "    <tr>\n",
       "      <th>Education</th>\n",
       "      <td>1029.0</td>\n",
       "      <td>2.892128</td>\n",
       "      <td>1.053541</td>\n",
       "      <td>1.0</td>\n",
       "      <td>2.00</td>\n",
       "      <td>3.0</td>\n",
       "      <td>4.0</td>\n",
       "      <td>5.0</td>\n",
       "    </tr>\n",
       "    <tr>\n",
       "      <th>EmployeeCount</th>\n",
       "      <td>1029.0</td>\n",
       "      <td>1.000000</td>\n",
       "      <td>0.000000</td>\n",
       "      <td>1.0</td>\n",
       "      <td>1.00</td>\n",
       "      <td>1.0</td>\n",
       "      <td>1.0</td>\n",
       "      <td>1.0</td>\n",
       "    </tr>\n",
       "    <tr>\n",
       "      <th>EmployeeNumber</th>\n",
       "      <td>1029.0</td>\n",
       "      <td>1024.367347</td>\n",
       "      <td>606.301635</td>\n",
       "      <td>1.0</td>\n",
       "      <td>496.00</td>\n",
       "      <td>1019.0</td>\n",
       "      <td>1553.0</td>\n",
       "      <td>2068.0</td>\n",
       "    </tr>\n",
       "    <tr>\n",
       "      <th>EnvironmentSatisfaction</th>\n",
       "      <td>1029.0</td>\n",
       "      <td>2.683188</td>\n",
       "      <td>1.096829</td>\n",
       "      <td>1.0</td>\n",
       "      <td>2.00</td>\n",
       "      <td>3.0</td>\n",
       "      <td>4.0</td>\n",
       "      <td>4.0</td>\n",
       "    </tr>\n",
       "    <tr>\n",
       "      <th>HourlyRate</th>\n",
       "      <td>1029.0</td>\n",
       "      <td>66.680272</td>\n",
       "      <td>20.474094</td>\n",
       "      <td>30.0</td>\n",
       "      <td>48.00</td>\n",
       "      <td>67.0</td>\n",
       "      <td>84.0</td>\n",
       "      <td>100.0</td>\n",
       "    </tr>\n",
       "    <tr>\n",
       "      <th>JobInvolvement</th>\n",
       "      <td>1029.0</td>\n",
       "      <td>2.713314</td>\n",
       "      <td>0.710146</td>\n",
       "      <td>1.0</td>\n",
       "      <td>2.00</td>\n",
       "      <td>3.0</td>\n",
       "      <td>3.0</td>\n",
       "      <td>4.0</td>\n",
       "    </tr>\n",
       "    <tr>\n",
       "      <th>JobLevel</th>\n",
       "      <td>1029.0</td>\n",
       "      <td>2.043732</td>\n",
       "      <td>1.118918</td>\n",
       "      <td>1.0</td>\n",
       "      <td>1.00</td>\n",
       "      <td>2.0</td>\n",
       "      <td>3.0</td>\n",
       "      <td>5.0</td>\n",
       "    </tr>\n",
       "    <tr>\n",
       "      <th>JobSatisfaction</th>\n",
       "      <td>1029.0</td>\n",
       "      <td>2.712342</td>\n",
       "      <td>1.096889</td>\n",
       "      <td>1.0</td>\n",
       "      <td>2.00</td>\n",
       "      <td>3.0</td>\n",
       "      <td>4.0</td>\n",
       "      <td>4.0</td>\n",
       "    </tr>\n",
       "    <tr>\n",
       "      <th>MonthlyIncome</th>\n",
       "      <td>1029.0</td>\n",
       "      <td>6449.796890</td>\n",
       "      <td>4794.525367</td>\n",
       "      <td>1009.0</td>\n",
       "      <td>2814.00</td>\n",
       "      <td>4735.0</td>\n",
       "      <td>8446.0</td>\n",
       "      <td>19999.0</td>\n",
       "    </tr>\n",
       "    <tr>\n",
       "      <th>MonthlyRate</th>\n",
       "      <td>1029.0</td>\n",
       "      <td>14250.629738</td>\n",
       "      <td>7088.757938</td>\n",
       "      <td>2094.0</td>\n",
       "      <td>7950.00</td>\n",
       "      <td>14295.0</td>\n",
       "      <td>20392.0</td>\n",
       "      <td>26999.0</td>\n",
       "    </tr>\n",
       "    <tr>\n",
       "      <th>NumCompaniesWorked</th>\n",
       "      <td>1029.0</td>\n",
       "      <td>2.653061</td>\n",
       "      <td>2.508186</td>\n",
       "      <td>0.0</td>\n",
       "      <td>1.00</td>\n",
       "      <td>1.0</td>\n",
       "      <td>4.0</td>\n",
       "      <td>9.0</td>\n",
       "    </tr>\n",
       "    <tr>\n",
       "      <th>PercentSalaryHike</th>\n",
       "      <td>1029.0</td>\n",
       "      <td>15.260447</td>\n",
       "      <td>3.665779</td>\n",
       "      <td>11.0</td>\n",
       "      <td>12.00</td>\n",
       "      <td>14.0</td>\n",
       "      <td>18.0</td>\n",
       "      <td>25.0</td>\n",
       "    </tr>\n",
       "    <tr>\n",
       "      <th>PerformanceRating</th>\n",
       "      <td>1029.0</td>\n",
       "      <td>3.159378</td>\n",
       "      <td>0.366206</td>\n",
       "      <td>3.0</td>\n",
       "      <td>3.00</td>\n",
       "      <td>3.0</td>\n",
       "      <td>3.0</td>\n",
       "      <td>4.0</td>\n",
       "    </tr>\n",
       "    <tr>\n",
       "      <th>RelationshipSatisfaction</th>\n",
       "      <td>1029.0</td>\n",
       "      <td>2.689990</td>\n",
       "      <td>1.077767</td>\n",
       "      <td>1.0</td>\n",
       "      <td>2.00</td>\n",
       "      <td>3.0</td>\n",
       "      <td>4.0</td>\n",
       "      <td>4.0</td>\n",
       "    </tr>\n",
       "    <tr>\n",
       "      <th>StandardHours</th>\n",
       "      <td>1029.0</td>\n",
       "      <td>80.000000</td>\n",
       "      <td>0.000000</td>\n",
       "      <td>80.0</td>\n",
       "      <td>80.00</td>\n",
       "      <td>80.0</td>\n",
       "      <td>80.0</td>\n",
       "      <td>80.0</td>\n",
       "    </tr>\n",
       "    <tr>\n",
       "      <th>StockOptionLevel</th>\n",
       "      <td>1029.0</td>\n",
       "      <td>0.822157</td>\n",
       "      <td>0.874662</td>\n",
       "      <td>0.0</td>\n",
       "      <td>0.00</td>\n",
       "      <td>1.0</td>\n",
       "      <td>1.0</td>\n",
       "      <td>3.0</td>\n",
       "    </tr>\n",
       "    <tr>\n",
       "      <th>TotalWorkingYears</th>\n",
       "      <td>1029.0</td>\n",
       "      <td>11.196307</td>\n",
       "      <td>7.857581</td>\n",
       "      <td>0.0</td>\n",
       "      <td>6.00</td>\n",
       "      <td>10.0</td>\n",
       "      <td>15.0</td>\n",
       "      <td>40.0</td>\n",
       "    </tr>\n",
       "    <tr>\n",
       "      <th>TrainingTimesLastYear</th>\n",
       "      <td>1029.0</td>\n",
       "      <td>2.782313</td>\n",
       "      <td>1.283401</td>\n",
       "      <td>0.0</td>\n",
       "      <td>2.00</td>\n",
       "      <td>3.0</td>\n",
       "      <td>3.0</td>\n",
       "      <td>6.0</td>\n",
       "    </tr>\n",
       "    <tr>\n",
       "      <th>WorkLifeBalance</th>\n",
       "      <td>1029.0</td>\n",
       "      <td>2.748299</td>\n",
       "      <td>0.697278</td>\n",
       "      <td>1.0</td>\n",
       "      <td>2.00</td>\n",
       "      <td>3.0</td>\n",
       "      <td>3.0</td>\n",
       "      <td>4.0</td>\n",
       "    </tr>\n",
       "    <tr>\n",
       "      <th>YearsAtCompany</th>\n",
       "      <td>1029.0</td>\n",
       "      <td>6.942663</td>\n",
       "      <td>6.068322</td>\n",
       "      <td>0.0</td>\n",
       "      <td>3.00</td>\n",
       "      <td>5.0</td>\n",
       "      <td>10.0</td>\n",
       "      <td>37.0</td>\n",
       "    </tr>\n",
       "    <tr>\n",
       "      <th>YearsInCurrentRole</th>\n",
       "      <td>1029.0</td>\n",
       "      <td>4.215743</td>\n",
       "      <td>3.658595</td>\n",
       "      <td>0.0</td>\n",
       "      <td>2.00</td>\n",
       "      <td>3.0</td>\n",
       "      <td>7.0</td>\n",
       "      <td>18.0</td>\n",
       "    </tr>\n",
       "    <tr>\n",
       "      <th>YearsSinceLastPromotion</th>\n",
       "      <td>1029.0</td>\n",
       "      <td>2.119534</td>\n",
       "      <td>3.108651</td>\n",
       "      <td>0.0</td>\n",
       "      <td>0.00</td>\n",
       "      <td>1.0</td>\n",
       "      <td>2.0</td>\n",
       "      <td>15.0</td>\n",
       "    </tr>\n",
       "    <tr>\n",
       "      <th>YearsWithCurrManager</th>\n",
       "      <td>1029.0</td>\n",
       "      <td>4.005831</td>\n",
       "      <td>3.522574</td>\n",
       "      <td>0.0</td>\n",
       "      <td>2.00</td>\n",
       "      <td>3.0</td>\n",
       "      <td>7.0</td>\n",
       "      <td>17.0</td>\n",
       "    </tr>\n",
       "  </tbody>\n",
       "</table>\n",
       "</div>"
      ],
      "text/plain": [
       "                           count          mean          std     min      25%  \\\n",
       "Age                        893.0     37.930571     9.395978    18.0    31.00   \n",
       "DailyRate                 1002.0    800.528942   408.109828   102.0   458.25   \n",
       "DistanceFromHome           934.0      9.930407     8.421791     1.0     2.00   \n",
       "Education                 1029.0      2.892128     1.053541     1.0     2.00   \n",
       "EmployeeCount             1029.0      1.000000     0.000000     1.0     1.00   \n",
       "EmployeeNumber            1029.0   1024.367347   606.301635     1.0   496.00   \n",
       "EnvironmentSatisfaction   1029.0      2.683188     1.096829     1.0     2.00   \n",
       "HourlyRate                1029.0     66.680272    20.474094    30.0    48.00   \n",
       "JobInvolvement            1029.0      2.713314     0.710146     1.0     2.00   \n",
       "JobLevel                  1029.0      2.043732     1.118918     1.0     1.00   \n",
       "JobSatisfaction           1029.0      2.712342     1.096889     1.0     2.00   \n",
       "MonthlyIncome             1029.0   6449.796890  4794.525367  1009.0  2814.00   \n",
       "MonthlyRate               1029.0  14250.629738  7088.757938  2094.0  7950.00   \n",
       "NumCompaniesWorked        1029.0      2.653061     2.508186     0.0     1.00   \n",
       "PercentSalaryHike         1029.0     15.260447     3.665779    11.0    12.00   \n",
       "PerformanceRating         1029.0      3.159378     0.366206     3.0     3.00   \n",
       "RelationshipSatisfaction  1029.0      2.689990     1.077767     1.0     2.00   \n",
       "StandardHours             1029.0     80.000000     0.000000    80.0    80.00   \n",
       "StockOptionLevel          1029.0      0.822157     0.874662     0.0     0.00   \n",
       "TotalWorkingYears         1029.0     11.196307     7.857581     0.0     6.00   \n",
       "TrainingTimesLastYear     1029.0      2.782313     1.283401     0.0     2.00   \n",
       "WorkLifeBalance           1029.0      2.748299     0.697278     1.0     2.00   \n",
       "YearsAtCompany            1029.0      6.942663     6.068322     0.0     3.00   \n",
       "YearsInCurrentRole        1029.0      4.215743     3.658595     0.0     2.00   \n",
       "YearsSinceLastPromotion   1029.0      2.119534     3.108651     0.0     0.00   \n",
       "YearsWithCurrManager      1029.0      4.005831     3.522574     0.0     2.00   \n",
       "\n",
       "                              50%      75%      max  \n",
       "Age                          37.0     44.0     60.0  \n",
       "DailyRate                   801.5   1162.0   1496.0  \n",
       "DistanceFromHome              8.0     16.0     29.0  \n",
       "Education                     3.0      4.0      5.0  \n",
       "EmployeeCount                 1.0      1.0      1.0  \n",
       "EmployeeNumber             1019.0   1553.0   2068.0  \n",
       "EnvironmentSatisfaction       3.0      4.0      4.0  \n",
       "HourlyRate                   67.0     84.0    100.0  \n",
       "JobInvolvement                3.0      3.0      4.0  \n",
       "JobLevel                      2.0      3.0      5.0  \n",
       "JobSatisfaction               3.0      4.0      4.0  \n",
       "MonthlyIncome              4735.0   8446.0  19999.0  \n",
       "MonthlyRate               14295.0  20392.0  26999.0  \n",
       "NumCompaniesWorked            1.0      4.0      9.0  \n",
       "PercentSalaryHike            14.0     18.0     25.0  \n",
       "PerformanceRating             3.0      3.0      4.0  \n",
       "RelationshipSatisfaction      3.0      4.0      4.0  \n",
       "StandardHours                80.0     80.0     80.0  \n",
       "StockOptionLevel              1.0      1.0      3.0  \n",
       "TotalWorkingYears            10.0     15.0     40.0  \n",
       "TrainingTimesLastYear         3.0      3.0      6.0  \n",
       "WorkLifeBalance               3.0      3.0      4.0  \n",
       "YearsAtCompany                5.0     10.0     37.0  \n",
       "YearsInCurrentRole            3.0      7.0     18.0  \n",
       "YearsSinceLastPromotion       1.0      2.0     15.0  \n",
       "YearsWithCurrManager          3.0      7.0     17.0  "
      ]
     },
     "execution_count": 11,
     "metadata": {},
     "output_type": "execute_result"
    }
   ],
   "source": [
    "df.describe().T"
   ]
  },
  {
   "cell_type": "code",
   "execution_count": 12,
   "id": "b1649ad5",
   "metadata": {
    "scrolled": true
   },
   "outputs": [
    {
     "name": "stdout",
     "output_type": "stream",
     "text": [
      "Total no of Unique Values in columns :\n",
      "Age:(Datatype:float64) : 40\n",
      "BusinessTravel:(Datatype:object) : 4\n",
      "DailyRate:(Datatype:float64) : 693\n",
      "Department:(Datatype:object) : 3\n",
      "DistanceFromHome:(Datatype:float64) : 28\n",
      "Education:(Datatype:int64) : 5\n",
      "EducationField:(Datatype:object) : 6\n",
      "EmployeeCount:(Datatype:int64) : 1\n",
      "EmployeeNumber:(Datatype:int64) : 1029\n",
      "EnvironmentSatisfaction:(Datatype:int64) : 4\n",
      "Gender:(Datatype:object) : 2\n",
      "HourlyRate:(Datatype:int64) : 71\n",
      "JobInvolvement:(Datatype:int64) : 4\n",
      "JobLevel:(Datatype:int64) : 5\n",
      "JobRole:(Datatype:object) : 9\n",
      "JobSatisfaction:(Datatype:int64) : 4\n",
      "MaritalStatus:(Datatype:object) : 4\n",
      "MonthlyIncome:(Datatype:int64) : 963\n",
      "MonthlyRate:(Datatype:int64) : 1010\n",
      "NumCompaniesWorked:(Datatype:int64) : 10\n",
      "Over18:(Datatype:object) : 1\n",
      "OverTime:(Datatype:object) : 2\n",
      "PercentSalaryHike:(Datatype:int64) : 15\n",
      "PerformanceRating:(Datatype:int64) : 2\n",
      "RelationshipSatisfaction:(Datatype:int64) : 4\n",
      "StandardHours:(Datatype:int64) : 1\n",
      "StockOptionLevel:(Datatype:int64) : 4\n",
      "TotalWorkingYears:(Datatype:int64) : 40\n",
      "TrainingTimesLastYear:(Datatype:int64) : 7\n",
      "WorkLifeBalance:(Datatype:int64) : 4\n",
      "YearsAtCompany:(Datatype:int64) : 32\n",
      "YearsInCurrentRole:(Datatype:int64) : 19\n",
      "YearsSinceLastPromotion:(Datatype:int64) : 16\n",
      "YearsWithCurrManager:(Datatype:int64) : 17\n"
     ]
    }
   ],
   "source": [
    "print('Total no of Unique Values in columns :')\n",
    "for features in df :\n",
    "    if(features != 'Attrition'):\n",
    "        print(str(features)+':(Datatype:' +str(df[features].dtype)+ ') : ' + str(len(df[features].unique())))  "
   ]
  },
  {
   "cell_type": "code",
   "execution_count": 13,
   "id": "d3900b0a",
   "metadata": {},
   "outputs": [],
   "source": [
    "drop_cols=['EmployeeCount','EmployeeNumber','StandardHours','Over18']"
   ]
  },
  {
   "cell_type": "code",
   "execution_count": 14,
   "id": "d9e7b811",
   "metadata": {},
   "outputs": [
    {
     "data": {
      "text/plain": [
       "['DistanceFromHome',\n",
       " 'WorkLifeBalance',\n",
       " 'MonthlyIncome',\n",
       " 'DailyRate',\n",
       " 'JobInvolvement',\n",
       " 'Department',\n",
       " 'Age',\n",
       " 'BusinessTravel',\n",
       " 'PerformanceRating',\n",
       " 'TotalWorkingYears',\n",
       " 'OverTime',\n",
       " 'NumCompaniesWorked',\n",
       " 'EnvironmentSatisfaction',\n",
       " 'Education',\n",
       " 'JobRole',\n",
       " 'Attrition',\n",
       " 'JobSatisfaction',\n",
       " 'EducationField',\n",
       " 'StockOptionLevel',\n",
       " 'TrainingTimesLastYear',\n",
       " 'YearsInCurrentRole',\n",
       " 'YearsWithCurrManager',\n",
       " 'MaritalStatus',\n",
       " 'HourlyRate',\n",
       " 'YearsAtCompany',\n",
       " 'PercentSalaryHike',\n",
       " 'JobLevel',\n",
       " 'RelationshipSatisfaction',\n",
       " 'YearsSinceLastPromotion',\n",
       " 'Gender',\n",
       " 'MonthlyRate']"
      ]
     },
     "execution_count": 14,
     "metadata": {},
     "output_type": "execute_result"
    }
   ],
   "source": [
    "df_col_list =list(set(df.columns)-set(drop_cols))\n",
    "df_col_list"
   ]
  },
  {
   "cell_type": "code",
   "execution_count": 15,
   "id": "ea39cdc9",
   "metadata": {},
   "outputs": [],
   "source": [
    "# Missing Value Exploration :"
   ]
  },
  {
   "cell_type": "code",
   "execution_count": 16,
   "id": "cdd619f0",
   "metadata": {},
   "outputs": [
    {
     "name": "stdout",
     "output_type": "stream",
     "text": [
      "Missing Values List :\n",
      "DistanceFromHome             95\n",
      "WorkLifeBalance               0\n",
      "MonthlyIncome                 0\n",
      "DailyRate                    27\n",
      "JobInvolvement                0\n",
      "Department                    0\n",
      "Age                         136\n",
      "BusinessTravel                5\n",
      "PerformanceRating             0\n",
      "TotalWorkingYears             0\n",
      "OverTime                      0\n",
      "NumCompaniesWorked            0\n",
      "EnvironmentSatisfaction       0\n",
      "Education                     0\n",
      "JobRole                       0\n",
      "Attrition                     0\n",
      "JobSatisfaction               0\n",
      "EducationField                0\n",
      "StockOptionLevel              0\n",
      "TrainingTimesLastYear         0\n",
      "YearsInCurrentRole            0\n",
      "YearsWithCurrManager          0\n",
      "MaritalStatus                 5\n",
      "HourlyRate                    0\n",
      "YearsAtCompany                0\n",
      "PercentSalaryHike             0\n",
      "JobLevel                      0\n",
      "RelationshipSatisfaction      0\n",
      "YearsSinceLastPromotion       0\n",
      "Gender                        0\n",
      "MonthlyRate                   0\n",
      "dtype: int64\n"
     ]
    }
   ],
   "source": [
    "print('Missing Values List :')\n",
    "print(df[df_col_list].isnull().sum())"
   ]
  },
  {
   "cell_type": "code",
   "execution_count": 17,
   "id": "0e29d15f",
   "metadata": {},
   "outputs": [
    {
     "data": {
      "text/plain": [
       "['DistanceFromHome',\n",
       " 'WorkLifeBalance',\n",
       " 'MonthlyIncome',\n",
       " 'DailyRate',\n",
       " 'JobInvolvement',\n",
       " 'Age',\n",
       " 'PerformanceRating',\n",
       " 'TotalWorkingYears',\n",
       " 'NumCompaniesWorked',\n",
       " 'EnvironmentSatisfaction',\n",
       " 'Education',\n",
       " 'JobSatisfaction',\n",
       " 'StockOptionLevel',\n",
       " 'TrainingTimesLastYear',\n",
       " 'YearsWithCurrManager',\n",
       " 'YearsAtCompany',\n",
       " 'HourlyRate',\n",
       " 'PercentSalaryHike',\n",
       " 'JobLevel',\n",
       " 'RelationshipSatisfaction',\n",
       " 'YearsSinceLastPromotion',\n",
       " 'YearsInCurrentRole',\n",
       " 'MonthlyRate']"
      ]
     },
     "execution_count": 17,
     "metadata": {},
     "output_type": "execute_result"
    }
   ],
   "source": [
    "Discreate_values=[feature for feature in df_col_list if df[feature].dtype=='O']\n",
    "Continuous_values=list(set(df[df_col_list].columns)-set(Discreate_values))\n",
    "Continuous_values"
   ]
  },
  {
   "cell_type": "code",
   "execution_count": 18,
   "id": "ef4d93ec",
   "metadata": {},
   "outputs": [
    {
     "name": "stdout",
     "output_type": "stream",
     "text": [
      "3    386\n",
      "4    279\n",
      "2    194\n",
      "1    134\n",
      "5     36\n",
      "Name: Education, dtype: int64\n",
      "3    310\n",
      "4    300\n",
      "2    212\n",
      "1    207\n",
      "Name: EnvironmentSatisfaction, dtype: int64\n",
      "3    606\n",
      "2    269\n",
      "4     94\n",
      "1     60\n",
      "Name: JobInvolvement, dtype: int64\n",
      "1    403\n",
      "2    350\n",
      "3    151\n",
      "4     78\n",
      "5     47\n",
      "Name: JobLevel, dtype: int64\n",
      "4    315\n",
      "3    301\n",
      "2    215\n",
      "1    198\n",
      "Name: JobSatisfaction, dtype: int64\n",
      "3    865\n",
      "4    164\n",
      "Name: PerformanceRating, dtype: int64\n",
      "3    318\n",
      "4    293\n",
      "2    224\n",
      "1    194\n",
      "Name: RelationshipSatisfaction, dtype: int64\n",
      "0    432\n",
      "1    417\n",
      "2    111\n",
      "3     69\n",
      "Name: StockOptionLevel, dtype: int64\n",
      "2    385\n",
      "3    346\n",
      "4     85\n",
      "5     79\n",
      "1     50\n",
      "6     45\n",
      "0     39\n",
      "Name: TrainingTimesLastYear, dtype: int64\n",
      "3    626\n",
      "2    250\n",
      "4     99\n",
      "1     54\n",
      "Name: WorkLifeBalance, dtype: int64\n"
     ]
    }
   ],
   "source": [
    "cont_col_list=['Education','EnvironmentSatisfaction','JobInvolvement', 'JobLevel','JobSatisfaction','PerformanceRating','RelationshipSatisfaction','StockOptionLevel', 'TrainingTimesLastYear','WorkLifeBalance',]\n",
    "for col in cont_col_list:\n",
    "    print(df[col].value_counts())"
   ]
  },
  {
   "cell_type": "code",
   "execution_count": 19,
   "id": "17a1e0f8",
   "metadata": {},
   "outputs": [
    {
     "data": {
      "text/plain": [
       "0    775\n",
       "1    240\n",
       "2     14\n",
       "dtype: int64"
      ]
     },
     "execution_count": 19,
     "metadata": {},
     "output_type": "execute_result"
    }
   ],
   "source": [
    "df[df_col_list].isnull().sum(axis=1).value_counts()\n"
   ]
  },
  {
   "cell_type": "markdown",
   "id": "edb7d73e",
   "metadata": {},
   "source": [
    "##### Charts according to KPI and KBR "
   ]
  },
  {
   "cell_type": "code",
   "execution_count": 20,
   "id": "fde8e121",
   "metadata": {},
   "outputs": [
    {
     "data": {
      "image/png": "[encoded data removed]",
      "text/plain": [
       "<Figure size 576x360 with 1 Axes>"
      ]
     },
     "metadata": {
      "needs_background": "light"
     },
     "output_type": "display_data"
    }
   ],
   "source": [
    "#Plotting Target Variable (Attrition)\n",
    "\n",
    "plt.figure(figsize=(8,5))\n",
    "Attrplot=sns.countplot(x='Attrition',data=df)\n",
    "plt.title('Countplot for Attrition',fontsize=15,fontweight='bold')\n",
    "plt.xlabel('Attrition',fontsize=18)\n",
    "plt.ylabel('Count of Data',fontsize=15)\n",
    "plt.show()           "
   ]
  },
  {
   "cell_type": "code",
   "execution_count": 21,
   "id": "b78bf023",
   "metadata": {},
   "outputs": [
    {
     "data": {
      "text/plain": [
       "Text(0.5, 1.0, 'Job Involvement')"
      ]
     },
     "execution_count": 21,
     "metadata": {},
     "output_type": "execute_result"
    },
    {
     "data": {
      "image/png": "[encoded data removed]",
      "text/plain": [
       "<Figure size 432x288 with 1 Axes>"
      ]
     },
     "metadata": {
      "needs_background": "light"
     },
     "output_type": "display_data"
    }
   ],
   "source": [
    "sns.countplot(data = df, x = 'JobInvolvement')\n",
    "plt.title('Job Involvement')"
   ]
  },
  {
   "cell_type": "code",
   "execution_count": 22,
   "id": "5d2b078e",
   "metadata": {},
   "outputs": [
    {
     "data": {
      "text/plain": [
       "Text(0.5, 1.0, 'Performance Rating')"
      ]
     },
     "execution_count": 22,
     "metadata": {},
     "output_type": "execute_result"
    },
    {
     "data": {
      "image/png": "[encoded data removed]",
      "text/plain": [
       "<Figure size 432x288 with 1 Axes>"
      ]
     },
     "metadata": {
      "needs_background": "light"
     },
     "output_type": "display_data"
    }
   ],
   "source": [
    "sns.countplot(data = df, x = 'PerformanceRating')\n",
    "plt.title('Performance Rating')"
   ]
  },
  {
   "cell_type": "code",
   "execution_count": 23,
   "id": "e8d2a273",
   "metadata": {},
   "outputs": [
    {
     "data": {
      "image/png": "[encoded data removed]",
      "text/plain": [
       "<Figure size 1080x720 with 1 Axes>"
      ]
     },
     "metadata": {
      "needs_background": "light"
     },
     "output_type": "display_data"
    }
   ],
   "source": [
    "NewNumeric=df[['Age','DistanceFromHome', 'PercentSalaryHike','TotalWorkingYears', 'YearsAtCompany','YearsInCurrentRole','YearsSinceLastPromotion','YearsWithCurrManager','TrainingTimesLastYear','NumCompaniesWorked']]\n",
    "NewNumericMelt=NewNumeric.melt()\n",
    "plt.figure(figsize=(15,10))\n",
    "plt.title('Boxplot for Numerical variables')\n",
    "bp=sns.boxplot(x='variable',y='value',data=NewNumericMelt)\n",
    "bp.set_xticklabels(bp.get_xticklabels(),rotation=90)\n",
    "plt.show()"
   ]
  },
  {
   "cell_type": "code",
   "execution_count": 24,
   "id": "6da7a571",
   "metadata": {},
   "outputs": [
    {
     "data": {
      "image/png": "[encoded data removed]",
      "text/plain": [
       "<Figure size 720x504 with 1 Axes>"
      ]
     },
     "metadata": {
      "needs_background": "light"
     },
     "output_type": "display_data"
    }
   ],
   "source": [
    "#Boxplot for Daily and Hourly Rate\n",
    "NewNumeric=df[['DailyRate','HourlyRate']]\n",
    "NewNumericMelt=NewNumeric.melt()\n",
    "plt.figure(figsize=(10,7))\n",
    "plt.title('Boxplot for Daily and Hourly rate')\n",
    "bp=sns.boxplot(x='variable',y='value',data=NewNumericMelt)\n",
    "bp.set_xticklabels(bp.get_xticklabels())\n",
    "plt.show()"
   ]
  },
  {
   "cell_type": "code",
   "execution_count": 25,
   "id": "d0c41367",
   "metadata": {},
   "outputs": [
    {
     "data": {
      "text/plain": [
       "Text(0.5, 1.0, 'Employee Gender')"
      ]
     },
     "execution_count": 25,
     "metadata": {},
     "output_type": "execute_result"
    },
    {
     "data": {
      "image/png": "[encoded data removed]",
      "text/plain": [
       "<Figure size 432x288 with 1 Axes>"
      ]
     },
     "metadata": {
      "needs_background": "light"
     },
     "output_type": "display_data"
    }
   ],
   "source": [
    "sns.countplot(data = df, x = 'Gender')\n",
    "plt.title('Employee Gender')"
   ]
  },
  {
   "cell_type": "code",
   "execution_count": 26,
   "id": "054e4b7f",
   "metadata": {},
   "outputs": [
    {
     "data": {
      "text/plain": [
       "(array([0, 1, 2, 3, 4, 5]),\n",
       " [Text(0, 0, 'Medical'),\n",
       "  Text(1, 0, 'Marketing'),\n",
       "  Text(2, 0, 'Life Sciences'),\n",
       "  Text(3, 0, 'Technical Degree'),\n",
       "  Text(4, 0, 'Human Resources'),\n",
       "  Text(5, 0, 'Other')])"
      ]
     },
     "execution_count": 26,
     "metadata": {},
     "output_type": "execute_result"
    },
    {
     "data": {
      "image/png": "[encoded data removed]",
      "text/plain": [
       "<Figure size 432x288 with 1 Axes>"
      ]
     },
     "metadata": {
      "needs_background": "light"
     },
     "output_type": "display_data"
    }
   ],
   "source": [
    "sns.countplot(data = df, x = 'EducationField')\n",
    "plt.title('Employee Education Field')\n",
    "plt.xticks(rotation=45)"
   ]
  },
  {
   "cell_type": "code",
   "execution_count": 27,
   "id": "3ea5dc6f",
   "metadata": {},
   "outputs": [
    {
     "data": {
      "text/plain": [
       "Text(0.5, 1.0, 'OverTime')"
      ]
     },
     "execution_count": 27,
     "metadata": {},
     "output_type": "execute_result"
    },
    {
     "data": {
      "image/png": "[encoded data removed]",
      "text/plain": [
       "<Figure size 432x288 with 1 Axes>"
      ]
     },
     "metadata": {
      "needs_background": "light"
     },
     "output_type": "display_data"
    }
   ],
   "source": [
    "sns.countplot(data = df, x = 'OverTime')\n",
    "plt.title('OverTime')"
   ]
  },
  {
   "cell_type": "code",
   "execution_count": 33,
   "id": "4da4fb8b",
   "metadata": {},
   "outputs": [
    {
     "data": {
      "text/plain": [
       "Text(0.5, 1.0, 'CounPlot of Over18 Employee')"
      ]
     },
     "execution_count": 33,
     "metadata": {},
     "output_type": "execute_result"
    },
    {
     "data": {
      "image/png": "[encoded data removed]",
      "text/plain": [
       "<Figure size 432x288 with 1 Axes>"
      ]
     },
     "metadata": {
      "needs_background": "light"
     },
     "output_type": "display_data"
    }
   ],
   "source": [
    "sns.countplot(data = df, x = 'Over18')\n",
    "plt.title('CounPlot of Over18 Employee')\n"
   ]
  },
  {
   "cell_type": "code",
   "execution_count": 34,
   "id": "466a45ad",
   "metadata": {},
   "outputs": [
    {
     "data": {
      "text/plain": [
       "Text(0.5, 1.0, 'MaritalStatus Of Employee')"
      ]
     },
     "execution_count": 34,
     "metadata": {},
     "output_type": "execute_result"
    },
    {
     "data": {
      "image/png": "[encoded data removed]",
      "text/plain": [
       "<Figure size 432x288 with 1 Axes>"
      ]
     },
     "metadata": {
      "needs_background": "light"
     },
     "output_type": "display_data"
    }
   ],
   "source": [
    "sns.countplot(data = df, x = 'MaritalStatus')\n",
    "plt.title('MaritalStatus Of Employee')"
   ]
  },
  {
   "cell_type": "code",
   "execution_count": 35,
   "id": "24580dd1",
   "metadata": {},
   "outputs": [
    {
     "data": {
      "text/plain": [
       "(array([0, 1, 2, 3, 4, 5, 6, 7, 8]),\n",
       " [Text(0, 0, 'Research Director'),\n",
       "  Text(1, 0, 'Manufacturing Director'),\n",
       "  Text(2, 0, 'Sales Representative'),\n",
       "  Text(3, 0, 'Manager'),\n",
       "  Text(4, 0, 'Healthcare Representative'),\n",
       "  Text(5, 0, 'Research Scientist'),\n",
       "  Text(6, 0, 'Sales Executive'),\n",
       "  Text(7, 0, 'Laboratory Technician'),\n",
       "  Text(8, 0, 'Human Resources')])"
      ]
     },
     "execution_count": 35,
     "metadata": {},
     "output_type": "execute_result"
    },
    {
     "data": {
      "image/png": "[encoded data removed]",
      "text/plain": [
       "<Figure size 432x288 with 1 Axes>"
      ]
     },
     "metadata": {
      "needs_background": "light"
     },
     "output_type": "display_data"
    }
   ],
   "source": [
    "sns.countplot(data = df, x = 'JobRole')\n",
    "plt.title('Job Role Of Employees')\n",
    "plt.xticks(rotation=45)"
   ]
  },
  {
   "cell_type": "code",
   "execution_count": 36,
   "id": "06909deb",
   "metadata": {},
   "outputs": [
    {
     "data": {
      "text/plain": [
       "Text(0.5, 1.0, 'Performance Rating Of Employee')"
      ]
     },
     "execution_count": 36,
     "metadata": {},
     "output_type": "execute_result"
    },
    {
     "data": {
      "image/png": "[encoded data removed]",
      "text/plain": [
       "<Figure size 432x288 with 1 Axes>"
      ]
     },
     "metadata": {
      "needs_background": "light"
     },
     "output_type": "display_data"
    }
   ],
   "source": [
    "sns.countplot(data = df, x = 'PerformanceRating')\n",
    "plt.title('Performance Rating Of Employee')"
   ]
  },
  {
   "cell_type": "code",
   "execution_count": 32,
   "id": "7cd95c07",
   "metadata": {},
   "outputs": [],
   "source": [
    "\n",
    "df.to_excel('E:/Project/Employee Resignation/employee_attrition.xlsx',index=False)"
   ]
  },
  {
   "cell_type": "code",
   "execution_count": null,
   "id": "8b7fd847",
   "metadata": {},
   "outputs": [],
   "source": []
  }
 ],
 "metadata": {
  "kernelspec": {
   "display_name": "Python 3 (ipykernel)",
   "language": "python",
   "name": "python3"
  },
  "language_info": {
   "codemirror_mode": {
    "name": "ipython",
    "version": 3
   },
   "file_extension": ".py",
   "mimetype": "text/x-python",
   "name": "python",
   "nbconvert_exporter": "python",
   "pygments_lexer": "ipython3",
   "version": "3.9.12"
  }
 },
 "nbformat": 4,
 "nbformat_minor": 5
}
